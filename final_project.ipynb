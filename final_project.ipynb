{
 "cells": [
  {
   "cell_type": "code",
   "execution_count": 1,
   "metadata": {},
   "outputs": [],
   "source": [
    "import numpy as np\n",
    "import pandas as pd\n",
    "from datetime import datetime\n",
    "import matplotlib.pyplot as plt\n",
    "import os"
   ]
  },
  {
   "cell_type": "code",
   "execution_count": 2,
   "metadata": {},
   "outputs": [],
   "source": [
    "# Get the current working directory\n",
    "current_dir = os.getcwd()\n",
    "file_name = \"aggregate_dataframe.csv\"\n",
    "# Construct the full file path\n",
    "file_path = os.path.join(current_dir, file_name)\n",
    "# Read CSV into DataFrame\n",
    "df = pd.read_csv(file_path)"
   ]
  },
  {
   "cell_type": "code",
   "execution_count": 3,
   "metadata": {},
   "outputs": [
    {
     "name": "stdout",
     "output_type": "stream",
     "text": [
      "Index(['Unnamed: 0', 'Resource Name', 'Resource Unit Code', 'Fuel Type',\n",
      "       'Outage Type', 'Available MW Maximum', 'Available MW During Outage',\n",
      "       'Effective MW Reduction Due to Outage', 'Actual Outage Start',\n",
      "       'Nature Of Work'],\n",
      "      dtype='object')\n"
     ]
    }
   ],
   "source": [
    "print(df.columns)"
   ]
  },
  {
   "cell_type": "code",
   "execution_count": 4,
   "metadata": {},
   "outputs": [],
   "source": [
    "df['Actual Outage Start'] = pd.to_datetime(df['Actual Outage Start'])"
   ]
  },
  {
   "cell_type": "code",
   "execution_count": 5,
   "metadata": {},
   "outputs": [
    {
     "name": "stdout",
     "output_type": "stream",
     "text": [
      "['Tube Leak' 'Other' 'Turbine/Generator Vibration/Repair'\n",
      " 'Fuel Problems/Repairs' 'Unknown' 'Exhaust Problems/Repairs'\n",
      " 'Feedwater Problems/Repairs' 'Fuel Limitation/Lack of Fuel Availability'\n",
      " 'Steam Turbine Limited/Unavailable Due to CT/GT Work'\n",
      " 'Lack of Steam Load Availability' 'Inlet Air Problems/Repairs'\n",
      " 'Emissions' 'Control system issues' 'Cooling Water Problems/Repairs'\n",
      " 'Combustion Inspection and Repair' 'Overhaul' 'Boroscope'\n",
      " 'Transformer Repair/Replace' 'Icing' 'Cold weather related'\n",
      " 'Frozen Equipment' 'Temperature Limit' 'Hot weather related'\n",
      " 'Human Error' 'Gas Company Pipeline Work' 'Frequency issue'\n",
      " 'Black Start Test' 'Personnel Safety' 'Lightening' 'Fuel Switching']\n"
     ]
    }
   ],
   "source": [
    "unique_nature_of_work = df['Nature Of Work'].unique()\n",
    "print(unique_nature_of_work)"
   ]
  },
  {
   "cell_type": "code",
   "execution_count": 6,
   "metadata": {},
   "outputs": [
    {
     "name": "stdout",
     "output_type": "stream",
     "text": [
      "['Maintenance Level 3' 'Maintenance Level 2' 'Maintenance Level 1'\n",
      " 'Forced Extension' 'Forced' 'Unavoidable Extension']\n"
     ]
    }
   ],
   "source": [
    "unique_outage_type = df['Outage Type'].unique()\n",
    "print(unique_outage_type)"
   ]
  },
  {
   "cell_type": "code",
   "execution_count": 7,
   "metadata": {},
   "outputs": [],
   "source": [
    "ambient_temperature_factors = ['Icing', 'Cold weather related', 'Frozen Equipment', 'Hot weather related']\n",
    "filtered_df = df[(df['Outage Type'].str.contains('Forced')) & (df['Nature Of Work'].isin(ambient_temperature_factors))]"
   ]
  },
  {
   "cell_type": "code",
   "execution_count": 8,
   "metadata": {},
   "outputs": [
    {
     "name": "stdout",
     "output_type": "stream",
     "text": [
      "        Unnamed: 0 Resource Name Resource Unit Code Fuel Type Outage Type  \\\n",
      "12995        12995           PH1          PH1_UNIT1      Wind      Forced   \n",
      "12996        12996           PH1          PH1_UNIT2      Wind      Forced   \n",
      "12997        12997           PH2          PH2_UNIT1      Wind      Forced   \n",
      "12998        12998           PH2          PH2_UNIT2      Wind      Forced   \n",
      "13013        13013           PH1          PH1_UNIT1      Wind      Forced   \n",
      "...            ...           ...                ...       ...         ...   \n",
      "156952      156952         MLSES        MLSES_UNIT1   Lignite      Forced   \n",
      "157488      157488         MLSES        MLSES_UNIT2   Lignite      Forced   \n",
      "157700      157700         MLSES        MLSES_UNIT2   Lignite      Forced   \n",
      "157898      157898         MLSES        MLSES_UNIT2   Lignite      Forced   \n",
      "158081      158081         MLSES        MLSES_UNIT2   Lignite      Forced   \n",
      "\n",
      "        Available MW Maximum  Available MW During Outage  \\\n",
      "12995                    109                        25.0   \n",
      "12996                    109                        25.0   \n",
      "12997                     94                        25.0   \n",
      "12998                     97                        25.0   \n",
      "13013                    109                       100.0   \n",
      "...                      ...                         ...   \n",
      "156952                   815                       770.0   \n",
      "157488                   820                       775.0   \n",
      "157700                   820                       775.0   \n",
      "157898                   820                       775.0   \n",
      "158081                   820                       775.0   \n",
      "\n",
      "        Effective MW Reduction Due to Outage Actual Outage Start  \\\n",
      "12995                                   84.0 2022-12-21 00:10:00   \n",
      "12996                                   84.0 2022-12-21 00:10:00   \n",
      "12997                                   69.0 2022-12-21 00:10:00   \n",
      "12998                                   72.0 2022-12-21 00:10:00   \n",
      "13013                                    9.0 2022-12-21 08:43:00   \n",
      "...                                      ...                 ...   \n",
      "156952                                  45.0 2023-08-31 20:45:00   \n",
      "157488                                  45.0 2023-08-08 08:14:00   \n",
      "157700                                  45.0 2023-08-08 08:14:00   \n",
      "157898                                  45.0 2023-08-08 08:14:00   \n",
      "158081                                  45.0 2023-08-08 08:14:00   \n",
      "\n",
      "             Nature Of Work  \n",
      "12995                 Icing  \n",
      "12996                 Icing  \n",
      "12997                 Icing  \n",
      "12998                 Icing  \n",
      "13013                 Icing  \n",
      "...                     ...  \n",
      "156952  Hot weather related  \n",
      "157488  Hot weather related  \n",
      "157700  Hot weather related  \n",
      "157898  Hot weather related  \n",
      "158081  Hot weather related  \n",
      "\n",
      "[2865 rows x 10 columns]\n"
     ]
    }
   ],
   "source": [
    "print(filtered_df)"
   ]
  },
  {
   "cell_type": "code",
   "execution_count": 9,
   "metadata": {},
   "outputs": [
    {
     "name": "stdout",
     "output_type": "stream",
     "text": [
      "<class 'pandas.core.frame.DataFrame'>\n",
      "Index: 2865 entries, 12995 to 158081\n",
      "Data columns (total 10 columns):\n",
      " #   Column                                Non-Null Count  Dtype         \n",
      "---  ------                                --------------  -----         \n",
      " 0   Unnamed: 0                            2865 non-null   int64         \n",
      " 1   Resource Name                         2865 non-null   object        \n",
      " 2   Resource Unit Code                    2865 non-null   object        \n",
      " 3   Fuel Type                             2865 non-null   object        \n",
      " 4   Outage Type                           2865 non-null   object        \n",
      " 5   Available MW Maximum                  2865 non-null   int64         \n",
      " 6   Available MW During Outage            2865 non-null   float64       \n",
      " 7   Effective MW Reduction Due to Outage  2865 non-null   float64       \n",
      " 8   Actual Outage Start                   2865 non-null   datetime64[ns]\n",
      " 9   Nature Of Work                        2865 non-null   object        \n",
      "dtypes: datetime64[ns](1), float64(2), int64(2), object(5)\n",
      "memory usage: 246.2+ KB\n",
      "None\n"
     ]
    }
   ],
   "source": [
    "print(filtered_df.info())"
   ]
  },
  {
   "cell_type": "code",
   "execution_count": 10,
   "metadata": {},
   "outputs": [
    {
     "name": "stdout",
     "output_type": "stream",
     "text": [
      "<pandas.core.groupby.generic.DataFrameGroupBy object at 0x165a89d10>\n"
     ]
    }
   ],
   "source": [
    "# Extract the month from the 'Date' column and calculate the count for each month\n",
    "grouped = filtered_df.groupby(filtered_df['Actual Outage Start'].dt.month)\n",
    "\n",
    "\n",
    "# Print the count by month\n",
    "print(grouped)"
   ]
  },
  {
   "cell_type": "code",
   "execution_count": 11,
   "metadata": {},
   "outputs": [
    {
     "name": "stdout",
     "output_type": "stream",
     "text": [
      "Actual Outage Start\n",
      "1      543\n",
      "2      237\n",
      "3        3\n",
      "6       59\n",
      "7       45\n",
      "8      331\n",
      "12    1647\n",
      "Name: Actual Outage Start, dtype: int64\n"
     ]
    }
   ],
   "source": [
    "# Calculate the sum of 'Value' for each category\n",
    "category_sum = grouped['Actual Outage Start'].count()\n",
    "print(category_sum)\n"
   ]
  },
  {
   "cell_type": "code",
   "execution_count": 12,
   "metadata": {},
   "outputs": [
    {
     "name": "stdout",
     "output_type": "stream",
     "text": [
      "<class 'pandas.core.frame.DataFrame'>\n",
      "Index: 2865 entries, 12995 to 158081\n",
      "Data columns (total 10 columns):\n",
      " #   Column                                Non-Null Count  Dtype         \n",
      "---  ------                                --------------  -----         \n",
      " 0   Unnamed: 0                            2865 non-null   int64         \n",
      " 1   Resource Name                         2865 non-null   object        \n",
      " 2   Resource Unit Code                    2865 non-null   object        \n",
      " 3   Fuel Type                             2865 non-null   object        \n",
      " 4   Outage Type                           2865 non-null   object        \n",
      " 5   Available MW Maximum                  2865 non-null   int64         \n",
      " 6   Available MW During Outage            2865 non-null   float64       \n",
      " 7   Effective MW Reduction Due to Outage  2865 non-null   float64       \n",
      " 8   Actual Outage Start                   2865 non-null   datetime64[ns]\n",
      " 9   Nature Of Work                        2865 non-null   object        \n",
      "dtypes: datetime64[ns](1), float64(2), int64(2), object(5)\n",
      "memory usage: 246.2+ KB\n",
      "None\n"
     ]
    }
   ],
   "source": [
    "print(filtered_df.info())"
   ]
  },
  {
   "cell_type": "code",
   "execution_count": 13,
   "metadata": {},
   "outputs": [
    {
     "name": "stderr",
     "output_type": "stream",
     "text": [
      "<ipython-input-13-68252a08011d>:1: SettingWithCopyWarning: \n",
      "A value is trying to be set on a copy of a slice from a DataFrame.\n",
      "Try using .loc[row_indexer,col_indexer] = value instead\n",
      "\n",
      "See the caveats in the documentation: https://pandas.pydata.org/pandas-docs/stable/user_guide/indexing.html#returning-a-view-versus-a-copy\n",
      "  filtered_df['Month'] = filtered_df['Actual Outage Start'].dt.month\n",
      "<ipython-input-13-68252a08011d>:2: SettingWithCopyWarning: \n",
      "A value is trying to be set on a copy of a slice from a DataFrame.\n",
      "Try using .loc[row_indexer,col_indexer] = value instead\n",
      "\n",
      "See the caveats in the documentation: https://pandas.pydata.org/pandas-docs/stable/user_guide/indexing.html#returning-a-view-versus-a-copy\n",
      "  filtered_df['Year'] = filtered_df['Actual Outage Start'].dt.year\n"
     ]
    }
   ],
   "source": [
    "filtered_df['Month'] = filtered_df['Actual Outage Start'].dt.month\n",
    "filtered_df['Year'] = filtered_df['Actual Outage Start'].dt.year\n"
   ]
  },
  {
   "cell_type": "code",
   "execution_count": 14,
   "metadata": {},
   "outputs": [
    {
     "name": "stdout",
     "output_type": "stream",
     "text": [
      "        Unnamed: 0 Resource Name Resource Unit Code Fuel Type Outage Type  \\\n",
      "12995        12995           PH1          PH1_UNIT1      Wind      Forced   \n",
      "12996        12996           PH1          PH1_UNIT2      Wind      Forced   \n",
      "12997        12997           PH2          PH2_UNIT1      Wind      Forced   \n",
      "12998        12998           PH2          PH2_UNIT2      Wind      Forced   \n",
      "13013        13013           PH1          PH1_UNIT1      Wind      Forced   \n",
      "...            ...           ...                ...       ...         ...   \n",
      "156952      156952         MLSES        MLSES_UNIT1   Lignite      Forced   \n",
      "157488      157488         MLSES        MLSES_UNIT2   Lignite      Forced   \n",
      "157700      157700         MLSES        MLSES_UNIT2   Lignite      Forced   \n",
      "157898      157898         MLSES        MLSES_UNIT2   Lignite      Forced   \n",
      "158081      158081         MLSES        MLSES_UNIT2   Lignite      Forced   \n",
      "\n",
      "        Available MW Maximum  Available MW During Outage  \\\n",
      "12995                    109                        25.0   \n",
      "12996                    109                        25.0   \n",
      "12997                     94                        25.0   \n",
      "12998                     97                        25.0   \n",
      "13013                    109                       100.0   \n",
      "...                      ...                         ...   \n",
      "156952                   815                       770.0   \n",
      "157488                   820                       775.0   \n",
      "157700                   820                       775.0   \n",
      "157898                   820                       775.0   \n",
      "158081                   820                       775.0   \n",
      "\n",
      "        Effective MW Reduction Due to Outage Actual Outage Start  \\\n",
      "12995                                   84.0 2022-12-21 00:10:00   \n",
      "12996                                   84.0 2022-12-21 00:10:00   \n",
      "12997                                   69.0 2022-12-21 00:10:00   \n",
      "12998                                   72.0 2022-12-21 00:10:00   \n",
      "13013                                    9.0 2022-12-21 08:43:00   \n",
      "...                                      ...                 ...   \n",
      "156952                                  45.0 2023-08-31 20:45:00   \n",
      "157488                                  45.0 2023-08-08 08:14:00   \n",
      "157700                                  45.0 2023-08-08 08:14:00   \n",
      "157898                                  45.0 2023-08-08 08:14:00   \n",
      "158081                                  45.0 2023-08-08 08:14:00   \n",
      "\n",
      "             Nature Of Work  Month  Year  Season  \n",
      "12995                 Icing     12  2022  Winter  \n",
      "12996                 Icing     12  2022  Winter  \n",
      "12997                 Icing     12  2022  Winter  \n",
      "12998                 Icing     12  2022  Winter  \n",
      "13013                 Icing     12  2022  Winter  \n",
      "...                     ...    ...   ...     ...  \n",
      "156952  Hot weather related      8  2023  Summer  \n",
      "157488  Hot weather related      8  2023  Summer  \n",
      "157700  Hot weather related      8  2023  Summer  \n",
      "157898  Hot weather related      8  2023  Summer  \n",
      "158081  Hot weather related      8  2023  Summer  \n",
      "\n",
      "[2865 rows x 13 columns]\n"
     ]
    },
    {
     "name": "stderr",
     "output_type": "stream",
     "text": [
      "<ipython-input-14-0e28befb2550>:17: SettingWithCopyWarning: \n",
      "A value is trying to be set on a copy of a slice from a DataFrame.\n",
      "Try using .loc[row_indexer,col_indexer] = value instead\n",
      "\n",
      "See the caveats in the documentation: https://pandas.pydata.org/pandas-docs/stable/user_guide/indexing.html#returning-a-view-versus-a-copy\n",
      "  filtered_df['Season'] = np.select(conditions, values, default='Unknown')\n"
     ]
    }
   ],
   "source": [
    "# Create 'NewColumn' based on a condition\n",
    "\n",
    "winter_months = [12,1,2]\n",
    "spring_months = [3,4,5]\n",
    "summer_months = [6,7,8]\n",
    "\n",
    "# Define the conditions and corresponding values\n",
    "conditions = [\n",
    "    filtered_df['Month'].isin(winter_months),\n",
    "    filtered_df['Month'].isin(spring_months),\n",
    "    filtered_df['Month'].isin(summer_months)\n",
    "]\n",
    "\n",
    "values = ['Winter', 'Spring', 'Summer']\n",
    "\n",
    "# Use numpy.select() to create the 'Category' column based on conditions\n",
    "filtered_df['Season'] = np.select(conditions, values, default='Unknown')\n",
    "\n",
    "# Print the DataFrame\n",
    "print(filtered_df)"
   ]
  },
  {
   "cell_type": "code",
   "execution_count": 15,
   "metadata": {},
   "outputs": [
    {
     "data": {
      "text/html": [
       "<div>\n",
       "<style scoped>\n",
       "    .dataframe tbody tr th:only-of-type {\n",
       "        vertical-align: middle;\n",
       "    }\n",
       "\n",
       "    .dataframe tbody tr th {\n",
       "        vertical-align: top;\n",
       "    }\n",
       "\n",
       "    .dataframe thead th {\n",
       "        text-align: right;\n",
       "    }\n",
       "</style>\n",
       "<table border=\"1\" class=\"dataframe\">\n",
       "  <thead>\n",
       "    <tr style=\"text-align: right;\">\n",
       "      <th></th>\n",
       "      <th>Unnamed: 0</th>\n",
       "      <th>Resource Name</th>\n",
       "      <th>Resource Unit Code</th>\n",
       "      <th>Fuel Type</th>\n",
       "      <th>Outage Type</th>\n",
       "      <th>Available MW Maximum</th>\n",
       "      <th>Available MW During Outage</th>\n",
       "      <th>Effective MW Reduction Due to Outage</th>\n",
       "      <th>Actual Outage Start</th>\n",
       "      <th>Nature Of Work</th>\n",
       "      <th>Month</th>\n",
       "      <th>Year</th>\n",
       "      <th>Season</th>\n",
       "    </tr>\n",
       "  </thead>\n",
       "  <tbody>\n",
       "    <tr>\n",
       "      <th>12995</th>\n",
       "      <td>12995</td>\n",
       "      <td>PH1</td>\n",
       "      <td>PH1_UNIT1</td>\n",
       "      <td>Wind</td>\n",
       "      <td>Forced</td>\n",
       "      <td>109</td>\n",
       "      <td>25.0</td>\n",
       "      <td>84.0</td>\n",
       "      <td>2022-12-21 00:10:00</td>\n",
       "      <td>Icing</td>\n",
       "      <td>12</td>\n",
       "      <td>2022</td>\n",
       "      <td>Winter</td>\n",
       "    </tr>\n",
       "    <tr>\n",
       "      <th>12996</th>\n",
       "      <td>12996</td>\n",
       "      <td>PH1</td>\n",
       "      <td>PH1_UNIT2</td>\n",
       "      <td>Wind</td>\n",
       "      <td>Forced</td>\n",
       "      <td>109</td>\n",
       "      <td>25.0</td>\n",
       "      <td>84.0</td>\n",
       "      <td>2022-12-21 00:10:00</td>\n",
       "      <td>Icing</td>\n",
       "      <td>12</td>\n",
       "      <td>2022</td>\n",
       "      <td>Winter</td>\n",
       "    </tr>\n",
       "    <tr>\n",
       "      <th>12997</th>\n",
       "      <td>12997</td>\n",
       "      <td>PH2</td>\n",
       "      <td>PH2_UNIT1</td>\n",
       "      <td>Wind</td>\n",
       "      <td>Forced</td>\n",
       "      <td>94</td>\n",
       "      <td>25.0</td>\n",
       "      <td>69.0</td>\n",
       "      <td>2022-12-21 00:10:00</td>\n",
       "      <td>Icing</td>\n",
       "      <td>12</td>\n",
       "      <td>2022</td>\n",
       "      <td>Winter</td>\n",
       "    </tr>\n",
       "    <tr>\n",
       "      <th>12998</th>\n",
       "      <td>12998</td>\n",
       "      <td>PH2</td>\n",
       "      <td>PH2_UNIT2</td>\n",
       "      <td>Wind</td>\n",
       "      <td>Forced</td>\n",
       "      <td>97</td>\n",
       "      <td>25.0</td>\n",
       "      <td>72.0</td>\n",
       "      <td>2022-12-21 00:10:00</td>\n",
       "      <td>Icing</td>\n",
       "      <td>12</td>\n",
       "      <td>2022</td>\n",
       "      <td>Winter</td>\n",
       "    </tr>\n",
       "    <tr>\n",
       "      <th>13013</th>\n",
       "      <td>13013</td>\n",
       "      <td>PH1</td>\n",
       "      <td>PH1_UNIT1</td>\n",
       "      <td>Wind</td>\n",
       "      <td>Forced</td>\n",
       "      <td>109</td>\n",
       "      <td>100.0</td>\n",
       "      <td>9.0</td>\n",
       "      <td>2022-12-21 08:43:00</td>\n",
       "      <td>Icing</td>\n",
       "      <td>12</td>\n",
       "      <td>2022</td>\n",
       "      <td>Winter</td>\n",
       "    </tr>\n",
       "    <tr>\n",
       "      <th>...</th>\n",
       "      <td>...</td>\n",
       "      <td>...</td>\n",
       "      <td>...</td>\n",
       "      <td>...</td>\n",
       "      <td>...</td>\n",
       "      <td>...</td>\n",
       "      <td>...</td>\n",
       "      <td>...</td>\n",
       "      <td>...</td>\n",
       "      <td>...</td>\n",
       "      <td>...</td>\n",
       "      <td>...</td>\n",
       "      <td>...</td>\n",
       "    </tr>\n",
       "    <tr>\n",
       "      <th>156952</th>\n",
       "      <td>156952</td>\n",
       "      <td>MLSES</td>\n",
       "      <td>MLSES_UNIT1</td>\n",
       "      <td>Lignite</td>\n",
       "      <td>Forced</td>\n",
       "      <td>815</td>\n",
       "      <td>770.0</td>\n",
       "      <td>45.0</td>\n",
       "      <td>2023-08-31 20:45:00</td>\n",
       "      <td>Hot weather related</td>\n",
       "      <td>8</td>\n",
       "      <td>2023</td>\n",
       "      <td>Summer</td>\n",
       "    </tr>\n",
       "    <tr>\n",
       "      <th>157488</th>\n",
       "      <td>157488</td>\n",
       "      <td>MLSES</td>\n",
       "      <td>MLSES_UNIT2</td>\n",
       "      <td>Lignite</td>\n",
       "      <td>Forced</td>\n",
       "      <td>820</td>\n",
       "      <td>775.0</td>\n",
       "      <td>45.0</td>\n",
       "      <td>2023-08-08 08:14:00</td>\n",
       "      <td>Hot weather related</td>\n",
       "      <td>8</td>\n",
       "      <td>2023</td>\n",
       "      <td>Summer</td>\n",
       "    </tr>\n",
       "    <tr>\n",
       "      <th>157700</th>\n",
       "      <td>157700</td>\n",
       "      <td>MLSES</td>\n",
       "      <td>MLSES_UNIT2</td>\n",
       "      <td>Lignite</td>\n",
       "      <td>Forced</td>\n",
       "      <td>820</td>\n",
       "      <td>775.0</td>\n",
       "      <td>45.0</td>\n",
       "      <td>2023-08-08 08:14:00</td>\n",
       "      <td>Hot weather related</td>\n",
       "      <td>8</td>\n",
       "      <td>2023</td>\n",
       "      <td>Summer</td>\n",
       "    </tr>\n",
       "    <tr>\n",
       "      <th>157898</th>\n",
       "      <td>157898</td>\n",
       "      <td>MLSES</td>\n",
       "      <td>MLSES_UNIT2</td>\n",
       "      <td>Lignite</td>\n",
       "      <td>Forced</td>\n",
       "      <td>820</td>\n",
       "      <td>775.0</td>\n",
       "      <td>45.0</td>\n",
       "      <td>2023-08-08 08:14:00</td>\n",
       "      <td>Hot weather related</td>\n",
       "      <td>8</td>\n",
       "      <td>2023</td>\n",
       "      <td>Summer</td>\n",
       "    </tr>\n",
       "    <tr>\n",
       "      <th>158081</th>\n",
       "      <td>158081</td>\n",
       "      <td>MLSES</td>\n",
       "      <td>MLSES_UNIT2</td>\n",
       "      <td>Lignite</td>\n",
       "      <td>Forced</td>\n",
       "      <td>820</td>\n",
       "      <td>775.0</td>\n",
       "      <td>45.0</td>\n",
       "      <td>2023-08-08 08:14:00</td>\n",
       "      <td>Hot weather related</td>\n",
       "      <td>8</td>\n",
       "      <td>2023</td>\n",
       "      <td>Summer</td>\n",
       "    </tr>\n",
       "  </tbody>\n",
       "</table>\n",
       "<p>2865 rows × 13 columns</p>\n",
       "</div>"
      ],
      "text/plain": [
       "        Unnamed: 0 Resource Name Resource Unit Code Fuel Type Outage Type  \\\n",
       "12995        12995           PH1          PH1_UNIT1      Wind      Forced   \n",
       "12996        12996           PH1          PH1_UNIT2      Wind      Forced   \n",
       "12997        12997           PH2          PH2_UNIT1      Wind      Forced   \n",
       "12998        12998           PH2          PH2_UNIT2      Wind      Forced   \n",
       "13013        13013           PH1          PH1_UNIT1      Wind      Forced   \n",
       "...            ...           ...                ...       ...         ...   \n",
       "156952      156952         MLSES        MLSES_UNIT1   Lignite      Forced   \n",
       "157488      157488         MLSES        MLSES_UNIT2   Lignite      Forced   \n",
       "157700      157700         MLSES        MLSES_UNIT2   Lignite      Forced   \n",
       "157898      157898         MLSES        MLSES_UNIT2   Lignite      Forced   \n",
       "158081      158081         MLSES        MLSES_UNIT2   Lignite      Forced   \n",
       "\n",
       "        Available MW Maximum  Available MW During Outage  \\\n",
       "12995                    109                        25.0   \n",
       "12996                    109                        25.0   \n",
       "12997                     94                        25.0   \n",
       "12998                     97                        25.0   \n",
       "13013                    109                       100.0   \n",
       "...                      ...                         ...   \n",
       "156952                   815                       770.0   \n",
       "157488                   820                       775.0   \n",
       "157700                   820                       775.0   \n",
       "157898                   820                       775.0   \n",
       "158081                   820                       775.0   \n",
       "\n",
       "        Effective MW Reduction Due to Outage Actual Outage Start  \\\n",
       "12995                                   84.0 2022-12-21 00:10:00   \n",
       "12996                                   84.0 2022-12-21 00:10:00   \n",
       "12997                                   69.0 2022-12-21 00:10:00   \n",
       "12998                                   72.0 2022-12-21 00:10:00   \n",
       "13013                                    9.0 2022-12-21 08:43:00   \n",
       "...                                      ...                 ...   \n",
       "156952                                  45.0 2023-08-31 20:45:00   \n",
       "157488                                  45.0 2023-08-08 08:14:00   \n",
       "157700                                  45.0 2023-08-08 08:14:00   \n",
       "157898                                  45.0 2023-08-08 08:14:00   \n",
       "158081                                  45.0 2023-08-08 08:14:00   \n",
       "\n",
       "             Nature Of Work  Month  Year  Season  \n",
       "12995                 Icing     12  2022  Winter  \n",
       "12996                 Icing     12  2022  Winter  \n",
       "12997                 Icing     12  2022  Winter  \n",
       "12998                 Icing     12  2022  Winter  \n",
       "13013                 Icing     12  2022  Winter  \n",
       "...                     ...    ...   ...     ...  \n",
       "156952  Hot weather related      8  2023  Summer  \n",
       "157488  Hot weather related      8  2023  Summer  \n",
       "157700  Hot weather related      8  2023  Summer  \n",
       "157898  Hot weather related      8  2023  Summer  \n",
       "158081  Hot weather related      8  2023  Summer  \n",
       "\n",
       "[2865 rows x 13 columns]"
      ]
     },
     "execution_count": 15,
     "metadata": {},
     "output_type": "execute_result"
    }
   ],
   "source": [
    "filtered_df"
   ]
  },
  {
   "cell_type": "code",
   "execution_count": 17,
   "metadata": {},
   "outputs": [],
   "source": [
    "# Group the DataFrame by the 'Category' column\n",
    "grouped = filtered_df.groupby('Month')\n",
    "\n",
    "# Calculate the sum of 'Value' for each group\n",
    "count_values = grouped['Month'].count()\n"
   ]
  },
  {
   "cell_type": "code",
   "execution_count": 18,
   "metadata": {},
   "outputs": [
    {
     "name": "stdout",
     "output_type": "stream",
     "text": [
      "Month\n",
      "1      543\n",
      "2      237\n",
      "3        3\n",
      "6       59\n",
      "7       45\n",
      "8      331\n",
      "12    1647\n",
      "Name: Month, dtype: int64\n"
     ]
    }
   ],
   "source": [
    "print(count_values)"
   ]
  },
  {
   "cell_type": "code",
   "execution_count": 19,
   "metadata": {},
   "outputs": [
    {
     "name": "stdout",
     "output_type": "stream",
     "text": [
      "       Count of Unplanned Outages  Month Number  Season\n",
      "Month                                                  \n",
      "1                             543             1  Winter\n",
      "2                             237             2  Winter\n",
      "3                               3             3  Spring\n",
      "6                              59             6  Summer\n",
      "7                              45             7  Summer\n",
      "8                             331             8  Summer\n",
      "12                           1647            12  Winter\n"
     ]
    }
   ],
   "source": [
    "df_final = pd.DataFrame(data=count_values)\n",
    "df_final = df_final.rename(columns={'Month': 'Count of Unplanned Outages'})\n",
    "df_final['Month Number'] = df_final.index\n",
    "df_final.reset_index(drop = True)\n",
    "# Create 'NewColumn' based on a condition\n",
    "\n",
    "winter_months = [12,1,2]\n",
    "spring_months = [3,4,5]\n",
    "summer_months = [6,7,8]\n",
    "\n",
    "# Define the conditions and corresponding values\n",
    "conditions = [\n",
    "    df_final.index.isin(winter_months),\n",
    "    df_final.index.isin(spring_months),\n",
    "    df_final.index.isin(summer_months)\n",
    "]\n",
    "\n",
    "values = ['Winter', 'Spring', 'Summer']\n",
    "\n",
    "# Use numpy.select() to create the 'Category' column based on conditions\n",
    "df_final['Season'] = np.select(conditions, values, default='Unknown')\n",
    "\n",
    "# Print the DataFrame\n",
    "print(df_final)"
   ]
  },
  {
   "cell_type": "code",
   "execution_count": 20,
   "metadata": {},
   "outputs": [
    {
     "data": {
      "image/png": "[encoded data removed]",
      "text/plain": [
       "<Figure size 720x432 with 1 Axes>"
      ]
     },
     "metadata": {
      "needs_background": "light"
     },
     "output_type": "display_data"
    }
   ],
   "source": [
    "# Group the data by 'Month' and 'Season' and calculate the sum of 'Value'\n",
    "grouped = df_final.groupby(['Month Number', 'Season'])['Count of Unplanned Outages'].sum().unstack()\n",
    "\n",
    "# Create a bar chart\n",
    "ax = grouped.plot(kind='bar', figsize=(10, 6))\n",
    "\n",
    "# Set labels and title\n",
    "ax.set_xlabel('Month')\n",
    "ax.set_ylabel('Count of Unplanned Outages')\n",
    "ax.set_title('Bar Chart Grouped by Month and Season')\n",
    "\n",
    "# Annotate each bar with its value\n",
    "for index, value in enumerate(df_final['Count of Unplanned Outages']):\n",
    "    plt.text(index, value, str(value), ha='center', va='bottom')\n",
    "\n",
    "# Customize the legend\n",
    "ax.legend(title='Season', bbox_to_anchor=(1.05, 1), loc='upper left')\n",
    "\n",
    "# Show the plot\n",
    "plt.show()"
   ]
  },
  {
   "cell_type": "code",
   "execution_count": 21,
   "metadata": {},
   "outputs": [
    {
     "name": "stdout",
     "output_type": "stream",
     "text": [
      "ANOVA F-statistic: 1.482279493013965\n",
      "ANOVA p-value: 0.3298623439689783\n",
      "The p-value is greater than or equal to 0.05\n",
      "There is no significant difference in the means of the seasons.\n"
     ]
    }
   ],
   "source": [
    "from scipy.stats import f_oneway\n",
    "\n",
    "\n",
    "# Perform the ANOVA test\n",
    "anova_result = f_oneway(\n",
    "    df_final[df_final['Season'] == 'Winter']['Count of Unplanned Outages'],\n",
    "    df_final[df_final['Season'] == 'Spring']['Count of Unplanned Outages'],\n",
    "    df_final[df_final['Season'] == 'Summer']['Count of Unplanned Outages']\n",
    ")\n",
    "\n",
    "# Print the ANOVA result\n",
    "print(\"ANOVA F-statistic:\", anova_result.statistic)\n",
    "print(\"ANOVA p-value:\", anova_result.pvalue)\n",
    "\n",
    "# Interpret the result\n",
    "alpha = 0.05  # Set your significance level\n",
    "if anova_result.pvalue < alpha:\n",
    "    print(\"The p-value is less than\", alpha)\n",
    "    print(\"There is a significant difference in the means of at least two seasons.\")\n",
    "else:\n",
    "    print(\"The p-value is greater than or equal to\", alpha)\n",
    "    print(\"There is no significant difference in the means of the seasons.\")"
   ]
  },
  {
   "cell_type": "code",
   "execution_count": 23,
   "metadata": {},
   "outputs": [
    {
     "name": "stdout",
     "output_type": "stream",
     "text": [
      "[68 87 65 38 97 98 64 98 29 22]\n"
     ]
    }
   ],
   "source": [
    "rand_nums = np.random.randint(low=1, high=100, size=10)\n",
    "print(rand_nums)"
   ]
  },
  {
   "cell_type": "code",
   "execution_count": 86,
   "metadata": {},
   "outputs": [],
   "source": [
    "\"\"\"\n",
    "           Count of Unplanned Outages  Month Number  Season\n",
    "Month                                                  \n",
    "1                             543             1  Winter\n",
    "2                             237             2  Winter\n",
    "3                               3             3  Spring\n",
    "6                              59             6  Summer\n",
    "7                              45             7  Summer\n",
    "8                             331             8  Summer\n",
    "12                           1647            12  Winter\n",
    "\n",
    "\"\"\"\n",
    "\n",
    "# we are creating dummy data based off the real dat\n",
    "# count of unplanned outages is used as the mean\n",
    "# we use a standard deviation of 3 to get 99% of data from original data\n",
    "# we create a sample size of 20 for each month\n",
    "\n",
    "\n",
    "\n",
    "# Set the random seed for reproducibility\n",
    "np.random.seed(0)\n",
    "\n",
    "# Define the parameters\n",
    "mean = 1647\n",
    "std_dev = 3\n",
    "sample_size = 30\n",
    "\n",
    "# Generate random numbers with the specified mean and standard deviation\n",
    "# each normal distribution is created based off the monthly count of forced unplanned outages caused weather related issues\n",
    "# winter season\n",
    "random_numbers_1 = np.random.normal(mean, std_dev, sample_size)\n",
    "mean = 543\n",
    "random_numbers_2 = np.random.normal(mean, std_dev, sample_size)\n",
    "mean = 237\n",
    "# spring season\n",
    "random_numbers_3 = np.random.normal(mean, std_dev, sample_size)\n",
    "# from the original data the was only 3 outages for one month of spring\n",
    "# one month is not enough data\n",
    "# thus we repeated use the same mean for all three months of spring\n",
    "mean = 3\n",
    "random_numbers_4 = np.random.normal(mean, std_dev, sample_size)\n",
    "mean = 3\n",
    "random_numbers_5 = np.random.normal(mean, std_dev, sample_size)\n",
    "mean = 3\n",
    "random_numbers_6 = np.random.normal(mean, std_dev, sample_size)\n",
    "# summer season\n",
    "mean = 59\n",
    "random_numbers_7 = np.random.normal(mean, std_dev, sample_size)\n",
    "mean = 45\n",
    "random_numbers_8 = np.random.normal(mean, std_dev, sample_size)\n",
    "mean = 331\n",
    "random_numbers_9 = np.random.normal(mean, std_dev, sample_size)\n",
    "winter_str = ['winter'] * sample_size\n",
    "spring_str = ['spring'] * sample_size\n",
    "summer_str = ['summer'] * sample_size\n",
    "month_num_1 = [1] * sample_size\n",
    "month_num_2 = [2] * sample_size\n",
    "month_num_3 = [3] * sample_size\n",
    "month_num_4 = [4] * sample_size\n",
    "month_num_5 = [5] * sample_size\n",
    "month_num_6 = [6] * sample_size\n",
    "month_num_7 = [7] * sample_size\n",
    "month_num_8 = [8] * sample_size\n",
    "month_num_9 = [9] * sample_size\n",
    "# Round the random numbers to integers\n",
    "random_numbers_1 = list(np.round(random_numbers_1).astype(int))\n",
    "random_numbers_2 = list(np.round(random_numbers_2).astype(int))\n",
    "random_numbers_3 = list(np.round(random_numbers_3).astype(int))\n",
    "random_numbers_4 = list(np.round(random_numbers_4).astype(int))\n",
    "# round and take abs value for spring season because our mean used to created these values is so small: 3\n",
    "random_numbers_4 = list(np.abs(random_numbers_4).astype(int))\n",
    "random_numbers_5 = list(np.round(random_numbers_5).astype(int))\n",
    "random_numbers_5 = list(np.abs(random_numbers_5).astype(int))\n",
    "random_numbers_6 = list(np.round(random_numbers_6).astype(int))\n",
    "random_numbers_6 = list(np.abs(random_numbers_6).astype(int))\n",
    "random_numbers_7 = list(np.round(random_numbers_7).astype(int))\n",
    "random_numbers_8 = list(np.round(random_numbers_8).astype(int))\n",
    "random_numbers_9 = list(np.round(random_numbers_9).astype(int))\n",
    "\n",
    "\n",
    "\n",
    "count_unplanned_outages = [random_numbers_1, \n",
    "                           random_numbers_2,\n",
    "                           random_numbers_3, \n",
    "                           random_numbers_4,\n",
    "                           random_numbers_5,\n",
    "                           random_numbers_6, \n",
    "                           random_numbers_7, \n",
    "                           random_numbers_8, \n",
    "                           random_numbers_9]\n",
    "months =  [month_num_1,\n",
    "           month_num_2,\n",
    "           month_num_3,\n",
    "           month_num_4, \n",
    "           month_num_5,\n",
    "           month_num_6,\n",
    "           month_num_7,\n",
    "           month_num_8,\n",
    "           month_num_9]\n",
    "seasons = [winter_str,\n",
    "           winter_str,\n",
    "           winter_str,\n",
    "           spring_str, \n",
    "           spring_str, \n",
    "           spring_str, \n",
    "           summer_str,\n",
    "           summer_str,\n",
    "           summer_str]\n",
    "# concatenate months so we can have one enter data seamlessly into dataframe\n",
    "concatenated_list_count_unplanned_outages = [] \n",
    "for i in count_unplanned_outages:\n",
    "    concatenated_list_count_unplanned_outages += i\n",
    "\n",
    "concatenated_list_months = []\n",
    "for i in months:\n",
    "    concatenated_list_months += i\n",
    "\n",
    "conctenated_list_season = []\n",
    "for i in seasons:\n",
    "    conctenated_list_season += i\n",
    "\n"
   ]
  },
  {
   "cell_type": "code",
   "execution_count": 87,
   "metadata": {},
   "outputs": [
    {
     "name": "stdout",
     "output_type": "stream",
     "text": [
      "9\n",
      "9\n",
      "9\n",
      "270\n",
      "270\n",
      "270\n"
     ]
    }
   ],
   "source": [
    "print(len(count_unplanned_outages))\n",
    "print(len(months))\n",
    "print(len(seasons))\n",
    "\n",
    "print(len(concatenated_list_count_unplanned_outages))\n",
    "print(len(concatenated_list_months))\n",
    "print(len(conctenated_list_season))"
   ]
  },
  {
   "cell_type": "code",
   "execution_count": 88,
   "metadata": {},
   "outputs": [],
   "source": [
    "# construct dict with dummy data\n",
    "d = {\n",
    "    'Count of Unplanned Outages': concatenated_list_count_unplanned_outages,\n",
    "    'Month': concatenated_list_months,\n",
    "    'Season': conctenated_list_season\n",
    "}\n",
    "# loads data\n",
    "final_df = pd.DataFrame(d)"
   ]
  },
  {
   "cell_type": "code",
   "execution_count": 89,
   "metadata": {},
   "outputs": [
    {
     "data": {
      "text/html": [
       "<div>\n",
       "<style scoped>\n",
       "    .dataframe tbody tr th:only-of-type {\n",
       "        vertical-align: middle;\n",
       "    }\n",
       "\n",
       "    .dataframe tbody tr th {\n",
       "        vertical-align: top;\n",
       "    }\n",
       "\n",
       "    .dataframe thead th {\n",
       "        text-align: right;\n",
       "    }\n",
       "</style>\n",
       "<table border=\"1\" class=\"dataframe\">\n",
       "  <thead>\n",
       "    <tr style=\"text-align: right;\">\n",
       "      <th></th>\n",
       "      <th>Count of Unplanned Outages</th>\n",
       "      <th>Month</th>\n",
       "      <th>Season</th>\n",
       "    </tr>\n",
       "  </thead>\n",
       "  <tbody>\n",
       "    <tr>\n",
       "      <th>0</th>\n",
       "      <td>1652</td>\n",
       "      <td>1</td>\n",
       "      <td>winter</td>\n",
       "    </tr>\n",
       "    <tr>\n",
       "      <th>1</th>\n",
       "      <td>1648</td>\n",
       "      <td>1</td>\n",
       "      <td>winter</td>\n",
       "    </tr>\n",
       "    <tr>\n",
       "      <th>2</th>\n",
       "      <td>1650</td>\n",
       "      <td>1</td>\n",
       "      <td>winter</td>\n",
       "    </tr>\n",
       "    <tr>\n",
       "      <th>3</th>\n",
       "      <td>1654</td>\n",
       "      <td>1</td>\n",
       "      <td>winter</td>\n",
       "    </tr>\n",
       "    <tr>\n",
       "      <th>4</th>\n",
       "      <td>1653</td>\n",
       "      <td>1</td>\n",
       "      <td>winter</td>\n",
       "    </tr>\n",
       "    <tr>\n",
       "      <th>...</th>\n",
       "      <td>...</td>\n",
       "      <td>...</td>\n",
       "      <td>...</td>\n",
       "    </tr>\n",
       "    <tr>\n",
       "      <th>265</th>\n",
       "      <td>332</td>\n",
       "      <td>9</td>\n",
       "      <td>summer</td>\n",
       "    </tr>\n",
       "    <tr>\n",
       "      <th>266</th>\n",
       "      <td>333</td>\n",
       "      <td>9</td>\n",
       "      <td>summer</td>\n",
       "    </tr>\n",
       "    <tr>\n",
       "      <th>267</th>\n",
       "      <td>331</td>\n",
       "      <td>9</td>\n",
       "      <td>summer</td>\n",
       "    </tr>\n",
       "    <tr>\n",
       "      <th>268</th>\n",
       "      <td>330</td>\n",
       "      <td>9</td>\n",
       "      <td>summer</td>\n",
       "    </tr>\n",
       "    <tr>\n",
       "      <th>269</th>\n",
       "      <td>331</td>\n",
       "      <td>9</td>\n",
       "      <td>summer</td>\n",
       "    </tr>\n",
       "  </tbody>\n",
       "</table>\n",
       "<p>270 rows × 3 columns</p>\n",
       "</div>"
      ],
      "text/plain": [
       "     Count of Unplanned Outages  Month  Season\n",
       "0                          1652      1  winter\n",
       "1                          1648      1  winter\n",
       "2                          1650      1  winter\n",
       "3                          1654      1  winter\n",
       "4                          1653      1  winter\n",
       "..                          ...    ...     ...\n",
       "265                         332      9  summer\n",
       "266                         333      9  summer\n",
       "267                         331      9  summer\n",
       "268                         330      9  summer\n",
       "269                         331      9  summer\n",
       "\n",
       "[270 rows x 3 columns]"
      ]
     },
     "execution_count": 89,
     "metadata": {},
     "output_type": "execute_result"
    }
   ],
   "source": [
    "# validate dummy data\n",
    "final_df"
   ]
  },
  {
   "cell_type": "code",
   "execution_count": 93,
   "metadata": {},
   "outputs": [
    {
     "data": {
      "image/png": "[encoded data removed]",
      "text/plain": [
       "<Figure size 432x288 with 1 Axes>"
      ]
     },
     "metadata": {
      "needs_background": "light"
     },
     "output_type": "display_data"
    },
    {
     "data": {
      "image/png": "[encoded data removed]",
      "text/plain": [
       "<Figure size 432x288 with 1 Axes>"
      ]
     },
     "metadata": {
      "needs_background": "light"
     },
     "output_type": "display_data"
    },
    {
     "name": "stdout",
     "output_type": "stream",
     "text": [
      "Shapiro-Wilk p-value for winter: 8.052561221993937e-12\n"
     ]
    },
    {
     "data": {
      "image/png": "[encoded data removed]",
      "text/plain": [
       "<Figure size 432x288 with 1 Axes>"
      ]
     },
     "metadata": {
      "needs_background": "light"
     },
     "output_type": "display_data"
    },
    {
     "data": {
      "image/png": "[encoded data removed]",
      "text/plain": [
       "<Figure size 432x288 with 1 Axes>"
      ]
     },
     "metadata": {
      "needs_background": "light"
     },
     "output_type": "display_data"
    },
    {
     "name": "stdout",
     "output_type": "stream",
     "text": [
      "Shapiro-Wilk p-value for spring: 0.0002052501222351566\n"
     ]
    },
    {
     "data": {
      "image/png": "[encoded data removed]",
      "text/plain": [
       "<Figure size 432x288 with 1 Axes>"
      ]
     },
     "metadata": {
      "needs_background": "light"
     },
     "output_type": "display_data"
    },
    {
     "data": {
      "image/png": "[encoded data removed]",
      "text/plain": [
       "<Figure size 432x288 with 1 Axes>"
      ]
     },
     "metadata": {
      "needs_background": "light"
     },
     "output_type": "display_data"
    },
    {
     "name": "stdout",
     "output_type": "stream",
     "text": [
      "Shapiro-Wilk p-value for summer: 1.3303102380530368e-13\n"
     ]
    }
   ],
   "source": [
    "\n",
    "from scipy import stats\n",
    "\n",
    "# Assuming your data is in a DataFrame called 'df'\n",
    "\n",
    "# List of unique seasons in the data\n",
    "seasons = final_df['Season'].unique()\n",
    "\n",
    "# Loop through each season and test normality\n",
    "for season in seasons:\n",
    "    season_data = final_df[final_df['Season'] == season]['Count of Unplanned Outages']\n",
    "    \n",
    "    # Histogram\n",
    "    plt.hist(season_data, bins=20)\n",
    "    plt.title(f'Histogram for {season}')\n",
    "    plt.show()\n",
    "\n",
    "    # Q-Q Plot\n",
    "    stats.probplot(season_data, dist=\"norm\", plot=plt)\n",
    "    plt.title(f'Q-Q Plot for {season}')\n",
    "    plt.show()\n",
    "\n",
    "    # Shapiro-Wilk Test\n",
    "    shapiro_test = stats.shapiro(season_data)\n",
    "    print(f\"Shapiro-Wilk p-value for {season}: {shapiro_test[1]}\")\n"
   ]
  },
  {
   "cell_type": "code",
   "execution_count": 94,
   "metadata": {},
   "outputs": [
    {
     "name": "stdout",
     "output_type": "stream",
     "text": [
      "F-statistic: 128.2264635623691\n",
      "P-value: 9.312996214460633e-40\n",
      "The ANOVA test result is statistically significant, indicating at least one group differs.\n"
     ]
    }
   ],
   "source": [
    "# Perform ANOVA test by season\n",
    "seasons = final_df['Season'].unique()\n",
    "anova_results = {}\n",
    "\n",
    "for season in seasons:\n",
    "    sample_data = final_df[final_df['Season'] == season]['Count of Unplanned Outages']\n",
    "    anova_results[season] = sample_data\n",
    "\n",
    "# Perform ANOVA test\n",
    "f_statistic, p_value = f_oneway(*anova_results.values())\n",
    "\n",
    "# Print ANOVA results\n",
    "print(\"F-statistic:\", f_statistic)\n",
    "print(\"P-value:\", p_value)\n",
    "\n",
    "# Interpret the results\n",
    "if p_value < 0.05:\n",
    "    print(\"The ANOVA test result is statistically significant, indicating at least one group differs.\")\n",
    "else:\n",
    "    print(\"The ANOVA test result is not statistically significant, indicating no significant difference between groups.\")"
   ]
  },
  {
   "cell_type": "markdown",
   "metadata": {},
   "source": [
    "Because we have a statisitcally significant difference of variance we cannot use ANOVA"
   ]
  },
  {
   "cell_type": "code",
   "execution_count": 95,
   "metadata": {},
   "outputs": [
    {
     "name": "stdout",
     "output_type": "stream",
     "text": [
      "Levene's test p-value: 2.1471339309922397e-25\n",
      "The variances are significantly different among seasons.\n"
     ]
    }
   ],
   "source": [
    "\n",
    "# Assuming your data is in a DataFrame called 'df'\n",
    "\n",
    "# Create a list to store data for each season\n",
    "season_data = []\n",
    "\n",
    "# List of unique seasons in the data\n",
    "seasons = final_df['Season'].unique()\n",
    "\n",
    "# Extract and store data for each season\n",
    "for season in seasons:\n",
    "    season_data.append(final_df[final_df['Season'] == season]['Count of Unplanned Outages'])\n",
    "\n",
    "# Perform Levene's test for homogeneity of variances\n",
    "levene_test = stats.levene(*season_data)\n",
    "\n",
    "# Alternatively, you can use Bartlett's test:\n",
    "# bartlett_test = stats.bartlett(*season_data)\n",
    "\n",
    "# Print the test result\n",
    "print(\"Levene's test p-value:\", levene_test.pvalue)\n",
    "\n",
    "# Interpret the result\n",
    "alpha = 0.05  # Set your significance level\n",
    "if levene_test.pvalue < alpha:\n",
    "    print(\"The variances are significantly different among seasons.\")\n",
    "else:\n",
    "    print(\"The variances are not significantly different among seasons.\")\n"
   ]
  },
  {
   "cell_type": "code",
   "execution_count": 103,
   "metadata": {},
   "outputs": [
    {
     "name": "stdout",
     "output_type": "stream",
     "text": [
      "Welch's ANOVA:\n",
      "   Source  ddof1       ddof2          F         p-unc       np2\n",
      "0  Season      2  118.719623  128.70945  1.866828e-30  0.489925\n"
     ]
    }
   ],
   "source": [
    "import pingouin as pg \n",
    "# Assuming your data is in a DataFrame called 'df' and the 'Season' column represents the groups\n",
    "\n",
    "# Create a dictionary to store data for each season\n",
    "season_data = {}\n",
    "\n",
    "# List of unique seasons in the data\n",
    "seasons = final_df['Season'].unique()\n",
    "\n",
    "# Extract and store data for each season\n",
    "for season in seasons:\n",
    "    season_data[season] = final_df[final_df['Season'] == season]['Count of Unplanned Outages']\n",
    "\n",
    "# Perform Welch's ANOVA test\n",
    "welch_anova_test = pg.welch_anova(dv='Count of Unplanned Outages', between='Season', data=final_df) \n",
    "\n",
    "# Print the test result\n",
    "print(\"Welch's ANOVA:\")\n",
    "print(welch_anova_test)\n",
    "\n",
    "# Interpret the result\n",
    "alpha = 0.05  # Set your significance level\n",
    "# if welch_anova_test.pvalue < alpha:\n",
    "#     print(\"There are significant differences in means among seasons.\")\n",
    "# else:\n",
    "#     print(\"There are no significant differences in means among seasons.\")\n"
   ]
  },
  {
   "cell_type": "markdown",
   "metadata": {},
   "source": []
  }
 ],
 "metadata": {
  "kernelspec": {
   "display_name": "Python 3",
   "language": "python",
   "name": "python3"
  },
  "language_info": {
   "codemirror_mode": {
    "name": "ipython",
    "version": 3
   },
   "file_extension": ".py",
   "mimetype": "text/x-python",
   "name": "python",
   "nbconvert_exporter": "python",
   "pygments_lexer": "ipython3",
   "version": "3.11.4"
  },
  "orig_nbformat": 4
 },
 "nbformat": 4,
 "nbformat_minor": 2
}
